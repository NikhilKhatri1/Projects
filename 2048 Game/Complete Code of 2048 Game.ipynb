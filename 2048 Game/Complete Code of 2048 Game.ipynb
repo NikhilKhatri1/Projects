{
 "cells": [
  {
   "cell_type": "markdown",
   "metadata": {},
   "source": [
    "## 2048 GUI-based Game"
   ]
  },
  {
   "cell_type": "markdown",
   "metadata": {},
   "source": [
    "## 1.Importing Required Modules:"
   ]
  },
  {
   "cell_type": "code",
   "execution_count": null,
   "metadata": {},
   "outputs": [],
   "source": [
    "from tkinter import Frame, Label, CENTER\n",
    "import random"
   ]
  },
  {
   "cell_type": "markdown",
   "metadata": {},
   "source": [
    "The code imports the necessary modules: Frame, Label \n",
    "\n",
    "from the tkinter library for creating the GUI,\n",
    "\n",
    "and the random module for generating random numbers."
   ]
  },
  {
   "cell_type": "markdown",
   "metadata": {},
   "source": [
    "## 2.Constants and Color Definitions:"
   ]
  },
  {
   "cell_type": "code",
   "execution_count": null,
   "metadata": {},
   "outputs": [],
   "source": [
    "SIZE = 400\n",
    "GRID_LEN = 4\n",
    "GRID_PADDING = 10\n",
    "\n",
    "BACKGROUND_COLOR_GAME = \"#92877d\"\n",
    "BACKGROUND_COLOR_CELL_EMPTY = \"#9e948a\"\n",
    "\n",
    "BACKGROUND_COLOR_DICT = {2: \"#eee4da\", 4: \"#ede0c8\", 8: \"#f2b179\", ...}\n",
    "CELL_COLOR_DICT = {2: \"#776e65\", 4: \"#776e65\", 8: \"#f9f6f2\", ...}\n",
    "\n",
    "FONT = (\"Verdana\", 40, \"bold\")\n",
    "\n",
    "KEY_UP = \"'w'\"\n",
    "KEY_DOWN = \"'s'\"\n",
    "KEY_LEFT = \"'a'\"\n",
    "KEY_RIGHT = \"'d'\""
   ]
  },
  {
   "cell_type": "markdown",
   "metadata": {},
   "source": [
    "These are constants and color definitions used for setting up the game GUI."
   ]
  },
  {
   "cell_type": "markdown",
   "metadata": {},
   "source": [
    "## 3.start_game() Function:"
   ]
  },
  {
   "cell_type": "code",
   "execution_count": null,
   "metadata": {},
   "outputs": [],
   "source": [
    "def start_game():\n",
    "    mat = []\n",
    "    for i in range(GRID_LEN):\n",
    "        mat.append([0] * GRID_LEN)\n",
    "    return mat"
   ]
  },
  {
   "cell_type": "markdown",
   "metadata": {},
   "source": [
    "This function initializes the game matrix as a 4x4 grid with all elements set to 0 and returns the matrix."
   ]
  },
  {
   "cell_type": "markdown",
   "metadata": {},
   "source": [
    "## 4.add_new_2() Function:"
   ]
  },
  {
   "cell_type": "code",
   "execution_count": null,
   "metadata": {},
   "outputs": [],
   "source": [
    "def add_new_2(mat):\n",
    "    r = random.randint(0, GRID_LEN - 1)\n",
    "    c = random.randint(0, GRID_LEN - 1)\n",
    "    while mat[r][c] != 0:\n",
    "        r = random.randint(0, GRID_LEN - 1)\n",
    "        c = random.randint(0, GRID_LEN - 1)\n",
    "    mat[r][c] = 2\n",
    "    return mat"
   ]
  },
  {
   "cell_type": "markdown",
   "metadata": {},
   "source": [
    "This function takes the game matrix as input and adds a new random number 2 to an empty cell in the matrix.\n",
    "\n",
    "It generates random row and column indices until it finds an empty cell (value 0),\n",
    "\n",
    "and then assigns the value 2 to that cell. It returns the updated matrix."
   ]
  },
  {
   "cell_type": "markdown",
   "metadata": {},
   "source": [
    "## 5.Transformation Functions:\n",
    "\n",
    "    reverse(): Reverses the order of elements in each row of the matrix."
   ]
  },
  {
   "cell_type": "code",
   "execution_count": null,
   "metadata": {},
   "outputs": [],
   "source": [
    "def reverse(mat):\n",
    "    new_mat = []\n",
    "    for i in range(GRID_LEN):\n",
    "        new_mat.append([])\n",
    "        for j in range(GRID_LEN):\n",
    "            new_mat[i].append(mat[i][GRID_LEN - j - 1])\n",
    "    return new_mat"
   ]
  },
  {
   "cell_type": "markdown",
   "metadata": {},
   "source": [
    "    transpose(): Transposes the matrix by swapping rows with columns."
   ]
  },
  {
   "cell_type": "code",
   "execution_count": null,
   "metadata": {},
   "outputs": [],
   "source": [
    "def transpose(mat):\n",
    "    new_mat = []\n",
    "    for i in range(GRID_LEN):\n",
    "        new_mat.append([])\n",
    "        for j in range(GRID_LEN):\n",
    "            new_mat[i].append(mat[j][i])\n",
    "    return new_mat"
   ]
  },
  {
   "cell_type": "markdown",
   "metadata": {},
   "source": [
    "## merge() Function:"
   ]
  },
  {
   "cell_type": "code",
   "execution_count": null,
   "metadata": {},
   "outputs": [],
   "source": [
    "def merge(mat):\n",
    "    for i in range(GRID_LEN):\n",
    "        for j in range(GRID_LEN - 1):\n",
    "            if mat[i][j] == mat[i][j + 1] and mat[i][j] != 0:\n",
    "                mat[i][j] = mat[i][j] * 2\n",
    "                mat[i][j + 1] = 0\n",
    "    return mat"
   ]
  },
  {
   "cell_type": "markdown",
   "metadata": {},
   "source": [
    "This function merges adjacent cells with the same value in each row of the matrix. \n",
    "\n",
    "It iterates through each row and checks if the current element is equal to the next element in the same row. \n",
    "\n",
    "If they are equal and not zero, it doubles the value of the current element and sets the value of the next element to zero.\n",
    "\n",
    "It modifies the matrix in place and returns the updated matrix."
   ]
  },
  {
   "cell_type": "markdown",
   "metadata": {},
   "source": [
    "## compress() Function:"
   ]
  },
  {
   "cell_type": "code",
   "execution_count": null,
   "metadata": {},
   "outputs": [],
   "source": [
    "def compress(mat):\n",
    "    new_mat = []\n",
    "    for i in range(GRID_LEN):\n",
    "        new_mat.append([0] * GRID_LEN)\n",
    "    for i in range(GRID_LEN):\n",
    "        pos = 0\n",
    "        for j in range(GRID_LEN):\n",
    "            if mat[i][j] != 0:\n",
    "                new_mat[i][pos] = mat[i][j]\n",
    "                pos += 1\n",
    "    return new_mat"
   ]
  },
  {
   "cell_type": "markdown",
   "metadata": {},
   "source": [
    "This function compresses the matrix by shifting all non-zero elements towards the left in each row \n",
    "\n",
    "while maintaining their relative order. \n",
    "\n",
    "It creates a new matrix with all elements set to zero and then iterates through each row of the input matrix.\n",
    "\n",
    "For each non-zero element, \n",
    "\n",
    "it places the element at the leftmost available position in the new matrix. \n",
    "\n",
    "It returns the updated matrix."
   ]
  },
  {
   "cell_type": "markdown",
   "metadata": {},
   "source": [
    "## 6.Move Functions:"
   ]
  },
  {
   "cell_type": "markdown",
   "metadata": {},
   "source": [
    "## move_up():"
   ]
  },
  {
   "cell_type": "code",
   "execution_count": null,
   "metadata": {},
   "outputs": [],
   "source": [
    "def move_up(grid):\n",
    "    transposed_grid = transpose(grid)\n",
    "    new_grid = compress(transposed_grid)\n",
    "    new_grid = merge(new_grid)\n",
    "    new_grid = compress(new_grid)\n",
    "    final_grid = transpose(new_grid)\n",
    "    return final_grid, new_grid != grid"
   ]
  },
  {
   "cell_type": "markdown",
   "metadata": {},
   "source": [
    "Performs the move-up operation by transposing the matrix, \n",
    "\n",
    "compressing it, merging adjacent cells, compressing it again, \n",
    "\n",
    "and transposing it back."
   ]
  },
  {
   "cell_type": "markdown",
   "metadata": {},
   "source": [
    "## move_down()"
   ]
  },
  {
   "cell_type": "code",
   "execution_count": null,
   "metadata": {},
   "outputs": [],
   "source": [
    "def move_down(grid):\n",
    "    transposed_grid = transpose(grid)\n",
    "    reversed_grid = reverse(transposed_grid)\n",
    "    new_grid = compress(reversed_grid)\n",
    "    new_grid = merge(new_grid)\n",
    "    new_grid = compress(new_grid)\n",
    "    final_reversed_grid = reverse(new_grid)\n",
    "    final_grid = transpose(final_reversed_grid)\n",
    "    return final_grid, new_grid != grid"
   ]
  },
  {
   "cell_type": "markdown",
   "metadata": {},
   "source": [
    "Performs the move-down operation by transposing the matrix, reversing the order of columns,\n",
    "\n",
    "compressing it, merging adjacent cells, compressing it again, \n",
    "\n",
    "re-reversing the order of columns, and transposing it back."
   ]
  },
  {
   "cell_type": "markdown",
   "metadata": {},
   "source": [
    "## move_right()"
   ]
  },
  {
   "cell_type": "code",
   "execution_count": null,
   "metadata": {},
   "outputs": [],
   "source": [
    "def move_right(grid):\n",
    "    reversed_grid = reverse(grid)\n",
    "    new_grid = compress(reversed_grid)\n",
    "    new_grid = merge(new_grid)\n",
    "    new_grid = compress(new_grid)\n",
    "    final_grid = reverse(new_grid)\n",
    "    return final_grid, new_grid != grid"
   ]
  },
  {
   "cell_type": "markdown",
   "metadata": {},
   "source": [
    "Performs the move-right operation by reversing the order of elements in each row, \n",
    "compressing it, merging adjacent cells, compressing it again, \n",
    "and re-reversing the order of elements in each row."
   ]
  },
  {
   "cell_type": "markdown",
   "metadata": {},
   "source": [
    "## move_left()"
   ]
  },
  {
   "cell_type": "code",
   "execution_count": null,
   "metadata": {},
   "outputs": [],
   "source": [
    "def move_left(grid):\n",
    "    new_grid = compress(grid)\n",
    "    new_grid = merge(new_grid)\n",
    "    new_grid = compress(new_grid)\n",
    "    return new_grid, new_grid != grid"
   ]
  },
  {
   "cell_type": "markdown",
   "metadata": {},
   "source": [
    "Performs the move-left operation by compressing the matrix, merging adjacent cells, compressing it again."
   ]
  },
  {
   "cell_type": "markdown",
   "metadata": {},
   "source": [
    "## 7.get_current_state() Function:"
   ]
  },
  {
   "cell_type": "code",
   "execution_count": null,
   "metadata": {},
   "outputs": [],
   "source": [
    "def get_current_state(mat):\n",
    "    for i in range(GRID_LEN):\n",
    "        for j in range(GRID_LEN):\n",
    "            if mat[i][j] == 2048:\n",
    "                return \"WON\"\n",
    "    for i in range(GRID_LEN):\n",
    "        for j in range(GRID_LEN):\n",
    "            if mat[i][j] == 0:\n",
    "                return \"GAME NOT OVER\"\n",
    "    for i in range(GRID_LEN - 1):\n",
    "        for j in range(GRID_LEN - 1):\n",
    "            if mat[i][j] == mat[i + 1][j] or mat[i][j] == mat[i][j + 1]:\n",
    "                return \"GAME NOT OVER\"\n",
    "    for j in range(GRID_LEN - 1):\n",
    "        if mat[GRID_LEN - 1][j] == mat[GRID_LEN - 1][j + 1]:\n",
    "            return \"GAME NOT OVER\"\n",
    "    for i in range(GRID_LEN - 1):\n",
    "        if mat[i][GRID_LEN - 1] == mat[i + 1][GRID_LEN - 1]:\n",
    "            return \"GAME NOT OVER\"\n",
    "    return \"LOST\""
   ]
  },
  {
   "cell_type": "markdown",
   "metadata": {},
   "source": [
    "This function takes the game matrix as input and determines the current state of the game. It checks for different conditions to determine the state:\n",
    "\n",
    "    If the number 2048 is present in any cell, it returns \"WON\".\n",
    "    \n",
    "    If there is any empty cell (value 0), it returns \"GAME NOT OVER\".\n",
    "    \n",
    "    If there are any adjacent cells with the same value in every row and column except for the last row and last column,\n",
    "    \n",
    "    it returns \"GAME NOT OVER\".\n",
    "    \n",
    "    If there are any adjacent cells with the same value in the last row, it returns \"GAME NOT OVER\".\n",
    "    \n",
    "    If there are any adjacent cells with the same value in the last column, it returns \"GAME NOT OVER\".\n",
    "    \n",
    "    If none of the above conditions are met, it returns \"LOST\"."
   ]
  },
  {
   "cell_type": "markdown",
   "metadata": {},
   "source": [
    "## Game2048 Class:\n",
    "\n",
    "    This class represents the GUI of the 2048 game using tkinter.\n",
    "    It inherits from the Frame class.\n",
    "    The __init__ method sets up the GUI, binds key events, initializes the grid cells, and starts the main event loop"
   ]
  },
  {
   "cell_type": "code",
   "execution_count": null,
   "metadata": {},
   "outputs": [],
   "source": [
    "class Game2048(Frame):\n",
    "    def __init__(self):\n",
    "        Frame.__init__(self)\n",
    "\n",
    "        self.grid()\n",
    "        self.master.title(\"2048\")\n",
    "        self.master.bind(\"<Key>\", self.key_down)\n",
    "        self.commands = {\n",
    "            KEY_UP: move_up,\n",
    "            KEY_DOWN: move_down,\n",
    "            KEY_LEFT: move_left,\n",
    "            KEY_RIGHT: move_right\n",
    "        }\n",
    "\n",
    "        self.grid_cells = []\n",
    "        self.init_grid()\n",
    "        self.init_matrix()\n",
    "        self.update_grid_cells()\n",
    "\n",
    "        self.mainloop()"
   ]
  },
  {
   "cell_type": "code",
   "execution_count": null,
   "metadata": {},
   "outputs": [],
   "source": [
    " def init_grid(self):\n",
    "        background = Frame(\n",
    "            self, bg=BACKGROUND_COLOR_GAME, width=SIZE, height=SIZE\n",
    "        )\n",
    "        background.grid()\n",
    "\n",
    "        for i in range(GRID_LEN):\n",
    "            grid_row = []\n",
    "            for j in range(GRID_LEN):\n",
    "                cell = Frame(\n",
    "                    background,\n",
    "                    bg=BACKGROUND_COLOR_CELL_EMPTY,\n",
    "                    width=SIZE / GRID_LEN,\n",
    "                    height=SIZE / GRID_LEN,\n",
    "                )\n",
    "                cell.grid(\n",
    "                    row=i, column=j, padx=GRID_PADDING, pady=GRID_PADDING\n",
    "                )\n",
    "                t = Label(\n",
    "                    master=cell,\n",
    "                    text=\"\",\n",
    "                    bg=BACKGROUND_COLOR_CELL_EMPTY,\n",
    "                    justify=CENTER,\n",
    "                    font=FONT,\n",
    "                    width=5,\n",
    "                    height=2,\n",
    "                )\n",
    "                t.grid()\n",
    "                grid_row.append(t)\n",
    "\n",
    "            self.grid_cells.append(grid_row)\n",
    "\n",
    "    def init_matrix(self):\n",
    "        self.matrix = start_game()\n",
    "        add_new_2(self.matrix)\n",
    "        add_new_2(self.matrix)\n",
    "\n",
    "    def update_grid_cells(self):\n",
    "        for i in range(GRID_LEN):\n",
    "            for j in range(GRID_LEN):\n",
    "                new_number = self.matrix[i][j]\n",
    "                if new_number == 0:\n",
    "                    self.grid_cells[i][j].configure(\n",
    "                        text=\"\", bg=BACKGROUND_COLOR_CELL_EMPTY\n",
    "                    )\n",
    "                else:\n",
    "                    self.grid_cells[i][j].configure(\n",
    "                        text=str(new_number),\n",
    "                        bg=BACKGROUND_COLOR_DICT[new_number],\n",
    "                        fg=CELL_COLOR_DICT[new_number],\n",
    "                    )\n",
    "        self.update_idletasks()\n",
    "\n",
    "    def key_down(self, event):\n",
    "        key = repr(event.char)\n",
    "        if key in self.commands:\n",
    "            self.matrix, changed = self.commands[key](self.matrix)\n",
    "            if changed:\n",
    "                add_new_2(self.matrix)\n",
    "                self.update_grid_cells()\n",
    "                changed = False\n",
    "                if get_current_state(self.matrix) == \"WON\":\n",
    "                    self.grid_cells[1][1].configure(\n",
    "                        text=\"You\", bg=BACKGROUND_COLOR_CELL_EMPTY\n",
    "                    )\n",
    "                    self.grid_cells[1][2].configure(\n",
    "                        text=\"Win!\", bg=BACKGROUND_COLOR_CELL_EMPTY\n",
    "                    )\n",
    "                if get_current_state(self.matrix) == \"LOST\":\n",
    "                    self.grid_cells[1][1].configure(\n",
    "                        text=\"You\", bg=BACKGROUND_COLOR_CELL_EMPTY\n",
    "                    )\n",
    "                    self.grid_cells[1][2].configure(\n",
    "                        text=\"Lose!\", bg=BACKGROUND_COLOR_CELL_EMPTY\n",
    "                    )\n"
   ]
  },
  {
   "cell_type": "markdown",
   "metadata": {},
   "source": [
    "## Main Code Execution:"
   ]
  },
  {
   "cell_type": "code",
   "execution_count": null,
   "metadata": {},
   "outputs": [],
   "source": [
    "if __name__ == \"__main__\":\n",
    "    game = Game2048()"
   ]
  },
  {
   "cell_type": "markdown",
   "metadata": {},
   "source": [
    "This part of the code checks if the module is being run directly and creates an instance of the Game2048 \n",
    "\n",
    "class to start the game.\n",
    "\n",
    "Overall, the code provides the logic and GUI implementation for the 2048 game.\n",
    "\n",
    "It defines functions for matrix operations, move functions, and game state checking.\n",
    "\n",
    "The Game2048 class handles the GUI setup and interaction.\n"
   ]
  },
  {
   "cell_type": "code",
   "execution_count": null,
   "metadata": {},
   "outputs": [],
   "source": []
  }
 ],
 "metadata": {
  "kernelspec": {
   "display_name": "Python 3",
   "language": "python",
   "name": "python3"
  },
  "language_info": {
   "codemirror_mode": {
    "name": "ipython",
    "version": 3
   },
   "file_extension": ".py",
   "mimetype": "text/x-python",
   "name": "python",
   "nbconvert_exporter": "python",
   "pygments_lexer": "ipython3",
   "version": "3.8.5"
  }
 },
 "nbformat": 4,
 "nbformat_minor": 4
}
